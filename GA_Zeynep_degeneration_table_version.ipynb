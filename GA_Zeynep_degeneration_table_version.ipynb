{
 "cells": [
  {
   "cell_type": "code",
   "execution_count": 21,
   "metadata": {},
   "outputs": [],
   "source": [
    "import random\n",
    "import math\n",
    "import numpy as np\n",
    "from itertools import groupby as g\n",
    "import operator\n"
   ]
  },
  {
   "cell_type": "code",
   "execution_count": 22,
   "metadata": {},
   "outputs": [],
   "source": [
    "def price(A_t, B, q):\n",
    "    return (A_t - q) / B"
   ]
  },
  {
   "cell_type": "code",
   "execution_count": 23,
   "metadata": {},
   "outputs": [],
   "source": [
    "def competitive_quantity(n, A_t, alpha, beta, B, c): \n",
    "    return min(n*(A_t - alpha*B) / (n + beta*B), c*n)"
   ]
  },
  {
   "cell_type": "code",
   "execution_count": 24,
   "metadata": {},
   "outputs": [],
   "source": [
    "def production_costs(q, alpha, beta, n):\n",
    "    if n == 0 :\n",
    "        return 0\n",
    "    else:\n",
    "        return alpha*q + beta*(q*q)/(2*n)"
   ]
  },
  {
   "cell_type": "code",
   "execution_count": 25,
   "metadata": {},
   "outputs": [],
   "source": [
    "def create_strategy(num_periods):\n",
    "    built_list = [random.randint(0,2) for _ in range(num_periods)]\n",
    "    return built_list"
   ]
  },
  {
   "cell_type": "code",
   "execution_count": 26,
   "metadata": {},
   "outputs": [],
   "source": [
    "def generate_population(num_periods, pop_size):\n",
    "    return [create_strategy(num_periods) for _ in range(pop_size)]"
   ]
  },
  {
   "cell_type": "code",
   "execution_count": 27,
   "metadata": {},
   "outputs": [],
   "source": [
    "def generate_children(population, num_children):\n",
    "    children = []\n",
    "    for i in range(math.ceil(num_children / 2)):\n",
    "        parent_pair = random.sample(population, 2)\n",
    "        children_pair = one_point_crossover(*parent_pair)\n",
    "        for child in children_pair:\n",
    "            children.append(mutation(child))\n",
    "    return children[0:num_children]"
   ]
  },
  {
   "cell_type": "code",
   "execution_count": 28,
   "metadata": {},
   "outputs": [],
   "source": [
    "def one_point_crossover(parent1, parent2):\n",
    "    crossover_index = random.randint(0, len(parent1) - 1)\n",
    "    children_pair = [(parent1[0:crossover_index] + parent2[crossover_index:]), \\\n",
    "         (parent2[0:crossover_index] + parent1[crossover_index:])]\n",
    "    return children_pair"
   ]
  },
  {
   "cell_type": "code",
   "execution_count": 29,
   "metadata": {},
   "outputs": [],
   "source": [
    "def mutation(strategy):\n",
    "    N = 30\n",
    "    prob_mutation = 1 / len(strategy)\n",
    "    new_strategy = []\n",
    "    for b in strategy:\n",
    "        if random.random() <= prob_mutation:\n",
    "            new_strategy.append(random.randint(0,2))\n",
    "        else:\n",
    "            new_strategy.append(b)\n",
    "    return new_strategy"
   ]
  },
  {
   "cell_type": "code",
   "execution_count": 30,
   "metadata": {},
   "outputs": [],
   "source": [
    "def better_strategy(strat1, strat2):\n",
    "    if fitness(strat1) >= fitness(strat2):\n",
    "        return strat1\n",
    "    return strat2"
   ]
  },
  {
   "cell_type": "code",
   "execution_count": 31,
   "metadata": {},
   "outputs": [],
   "source": [
    "#build cost not considered here\n",
    "def profit(num_plant):\n",
    "    A_0 = 420\n",
    "    B = 1\n",
    "    alpha = 10\n",
    "    beta = 0.5\n",
    "    fixed_costs = 1250\n",
    "    build_costs = 2500\n",
    "    c = 100     \n",
    "    quantity = competitive_quantity(num_plant, A_0, alpha, beta, B, c)\n",
    "    revenue = price(A_0, B, quantity)*quantity\n",
    "    prod_cost = production_costs(quantity, alpha, beta, num_plant)\n",
    "    profit = revenue - prod_cost - fixed_costs*num_plant\n",
    "    return profit "
   ]
  },
  {
   "cell_type": "code",
   "execution_count": 32,
   "metadata": {},
   "outputs": [],
   "source": [
    "profit_table = []\n",
    "p = 8\n",
    "para = 1 / p\n",
    "for n in range(111):\n",
    "    profit_table.append([n*para, profit(n*para)])"
   ]
  },
  {
   "cell_type": "code",
   "execution_count": 33,
   "metadata": {},
   "outputs": [],
   "source": [
    "def profit_objective(strategy):\n",
    "    p = 8\n",
    "    para = 1 / p\n",
    "    list1 = [float(format( (para*m), '.2f')) for m in range(0, p)]\n",
    "    list1.reverse()\n",
    "    N = 30\n",
    "\n",
    "    built_list = strategy[:]\n",
    "\n",
    "    n_list = strategy[:]\n",
    "\n",
    "    for i in range(N):\n",
    "        if built_list[i] != 0:\n",
    "            m = built_list[i]\n",
    "            list2 = [k*m  for k in list1]\n",
    "            for l in range(p):\n",
    "                if i+l+1 <=N-1:\n",
    "                    n_list[i+l+1] =n_list[i+l+1] + list2[l]\n",
    "            \n",
    "    strategy =  built_list[:]\n",
    "    \n",
    "    total_profit = []\n",
    "    for per in range(len(strategy)):  \n",
    "        total_profit.append(profit_table[round(n_list[per] / 0.1)][1])\n",
    "    \n",
    "    num_built = sum(strategy) \n",
    "    \n",
    "    return sum(total_profit) - 2500*num_built\n"
   ]
  },
  {
   "cell_type": "code",
   "execution_count": 34,
   "metadata": {},
   "outputs": [],
   "source": [
    "def profit_objective_list(strategy):\n",
    "    p = 8\n",
    "    para = 1 / p\n",
    "    list1 = [float(format( (para*m), '.2f')) for m in range(0, p)]\n",
    "    list1.reverse()\n",
    "    N = 30\n",
    "\n",
    "    built_list = strategy[:]\n",
    "\n",
    "    n_list = strategy[:]\n",
    "\n",
    "    for i in range(N):\n",
    "        if built_list[i] != 0:\n",
    "            m = built_list[i]\n",
    "            list2 = [k*m  for k in list1]\n",
    "            for l in range(p):\n",
    "                if i+l+1 <=N-1:\n",
    "                    n_list[i+l+1] =n_list[i+l+1] + list2[l]\n",
    "            \n",
    "    strategy =  built_list[:]     \n",
    "       \n",
    "    A_0 = 420\n",
    "    B = 1\n",
    "    alpha = 10\n",
    "    beta = 0.5\n",
    "    fixed_costs = 1250\n",
    "    build_costs = 2500\n",
    "    c = 100 #capacity    \n",
    "    N = len(n_list)\n",
    "    \n",
    "    profit_period = []\n",
    "    for i in range(N): \n",
    "        quantity = competitive_quantity(n_list[i], A_0, alpha, beta, B, c)\n",
    "        revenue = price(A_0, B, quantity)*quantity\n",
    "        prod_cost = production_costs(quantity, alpha, beta, n_list[i])\n",
    "        build_cost = built_list[i]*2500\n",
    "        profit = revenue - prod_cost - fixed_costs*n_list[i] - build_cost\n",
    "        profit_period.append(profit)  \n",
    "      \n",
    "    return profit_period"
   ]
  },
  {
   "cell_type": "code",
   "execution_count": 35,
   "metadata": {},
   "outputs": [],
   "source": [
    "def fitness(strategy):\n",
    "    profit_sum = sum(profit_objective_list(strategy))    \n",
    "    return profit_sum"
   ]
  },
  {
   "cell_type": "code",
   "execution_count": 36,
   "metadata": {},
   "outputs": [],
   "source": [
    "def tournament_survival(population, fitnesses,  pop_size):\n",
    "    new_population = []\n",
    "    new_fitnesses = []\n",
    "    for i in range(num_solutions):\n",
    "        indices = [random.randrange(len(population)) for _ in range(2)]\n",
    "        if fitnesses[indices[0]] > fitnesses[indices[1]]:\n",
    "            new_population.append(population[indices[0]])\n",
    "            new_fitnesses.append(fitnesses[indices[0]])\n",
    "        else:\n",
    "            new_population.append(population[indices[1]])\n",
    "            new_fitnesses.append(fitnesses[indices[1]]) \n",
    "    return new_population"
   ]
  },
  {
   "cell_type": "code",
   "execution_count": 37,
   "metadata": {},
   "outputs": [],
   "source": [
    "def survival_solutions(parents, parent_fitnesses, children, num_solutions):\n",
    "    population = parents + children\n",
    "    fitnesses = parent_fitnesses + [profit_objective(child) for child in children]\n",
    "    new_population = []\n",
    "    new_fitnesses = []\n",
    "    for i in range(num_solutions):\n",
    "        indices = [random.randrange(len(population)) for _ in range(2)]\n",
    "        if fitnesses[indices[0]] > fitnesses[indices[1]]:\n",
    "            new_population.append(population[indices[0]])\n",
    "            new_fitnesses.append(fitnesses[indices[0]])\n",
    "        else:\n",
    "            new_population.append(population[indices[1]])\n",
    "            new_fitnesses.append(fitnesses[indices[1]])            \n",
    "    return new_population, new_fitnesses"
   ]
  },
  {
   "cell_type": "code",
   "execution_count": 38,
   "metadata": {},
   "outputs": [],
   "source": [
    "def genetic_algorithm(num_solutions, num_children,num_periods, num_sims):\n",
    "    new_population = generate_population(num_periods, num_solutions) #possible_solutions(num_solutions, num_periods) \n",
    "    new_fitnesses = [profit_objective(strategy) for strategy in new_population]\n",
    "    for i in range(num_sims):\n",
    "        parents = new_population\n",
    "        parent_fitnesses = new_fitnesses\n",
    "        children = generate_children(parents, num_children)\n",
    "        new_population, new_fitnesses = survival_solutions(parents, parent_fitnesses, children, num_solutions)\n",
    "    return new_population"
   ]
  },
  {
   "cell_type": "code",
   "execution_count": 39,
   "metadata": {},
   "outputs": [],
   "source": [
    "def genetic_optimal(num_solutions, num_children, num_periods, num_sims):\n",
    "    final_population = genetic_algorithm(num_solutions, num_children, num_periods, num_sims)\n",
    "    best_solution = max(final_population, key = lambda final_population: profit_objective(final_population))\n",
    "    return [profit_objective(best_solution), best_solution]"
   ]
  },
  {
   "cell_type": "code",
   "execution_count": 40,
   "metadata": {},
   "outputs": [
    {
     "name": "stdout",
     "output_type": "stream",
     "text": [
      "[965250.0, [1, 1, 0, 0, 0, 1, 0, 0, 1, 0, 0, 1, 0, 0, 1, 0, 0, 1, 0, 0, 1, 0, 0, 0, 1, 0, 0, 1, 0, 0]]\n"
     ]
    }
   ],
   "source": [
    "population_size = 1000 #1000, 500, 30, 300\n",
    "num_children = 500\n",
    "num_period = 30 \n",
    "print(genetic_optimal(1000, 500, 30, 300))  "
   ]
  },
  {
   "cell_type": "code",
   "execution_count": null,
   "metadata": {
    "collapsed": true
   },
   "outputs": [],
   "source": []
  }
 ],
 "metadata": {
  "kernelspec": {
   "display_name": "Python 3",
   "language": "python",
   "name": "python3"
  },
  "language_info": {
   "codemirror_mode": {
    "name": "ipython",
    "version": 3
   },
   "file_extension": ".py",
   "mimetype": "text/x-python",
   "name": "python",
   "nbconvert_exporter": "python",
   "pygments_lexer": "ipython3",
   "version": "3.6.8"
  }
 },
 "nbformat": 4,
 "nbformat_minor": 2
}
